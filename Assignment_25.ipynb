{
 "cells": [
  {
   "cell_type": "markdown",
   "id": "95a1181d",
   "metadata": {},
   "source": [
    "Question1\n",
    "Create a function that takes three integer arguments (a, b, c) and returns the amount of\n",
    "integers which are of equal value.\n",
    "Examples\n",
    "equal(3, 4, 3) ➞ 2\n",
    "equal(1, 1, 1) ➞ 3\n",
    "equal(3, 4, 1) ➞ 0\n",
    "Notes\n",
    "Your function must return 0, 2 or 3."
   ]
  },
  {
   "cell_type": "code",
   "execution_count": 4,
   "id": "60533107",
   "metadata": {},
   "outputs": [
    {
     "name": "stdout",
     "output_type": "stream",
     "text": [
      "2\n",
      "3\n",
      "0\n"
     ]
    }
   ],
   "source": [
    "def equal(a,b,c):\n",
    "    list1=[a,b,c]\n",
    "    count=0\n",
    "    for i in list1:\n",
    "        if list1.count(i)>1:\n",
    "            return list1.count(i)\n",
    "        else:\n",
    "            return count\n",
    "\n",
    "print(equal(3,4,3))\n",
    "print(equal(1,1,1))\n",
    "print(equal(3,4,1))"
   ]
  },
  {
   "cell_type": "code",
   "execution_count": null,
   "id": "9df0c2aa",
   "metadata": {},
   "outputs": [],
   "source": []
  },
  {
   "cell_type": "code",
   "execution_count": null,
   "id": "f61c2680",
   "metadata": {},
   "outputs": [],
   "source": []
  },
  {
   "cell_type": "markdown",
   "id": "77ac24bd",
   "metadata": {},
   "source": [
    "Question2\n",
    "Write a function that converts a dictionary into a list of keys-values tuples. Examples\n",
    "dict_to_list({\n",
    " \"D\": 1,\n",
    " \"B\": 2,\n",
    " \"C\": 3\n",
    "}) ➞ [(\"B\", 2), (\"C\", 3), (\"D\", 1)]\n",
    "dict_to_list({\n",
    " \"likes\": 2,\n",
    " \"dislikes\": 3,\n",
    " \"followers\": 10\n",
    "}) ➞ [(\"dislikes\", 3), (\"followers\", 10), (\"likes\", 2)]\n",
    "Notes\n",
    "Return the elements in the list in alphabetical order."
   ]
  },
  {
   "cell_type": "code",
   "execution_count": 15,
   "id": "39c6a34b",
   "metadata": {},
   "outputs": [
    {
     "name": "stdout",
     "output_type": "stream",
     "text": [
      "[('B', 2), ('C', 3), ('D', 1)]\n",
      "[('dislikes', 3), ('followers', 10), ('likes', 2)]\n"
     ]
    }
   ],
   "source": [
    "def dict_to_list(dict1):\n",
    "    key_value_list=list(dict1.items())\n",
    "    key_value_list.sort()\n",
    "    return key_value_list\n",
    "\n",
    "print(dict_to_list({\"D\": 1,\"B\": 2,\"C\": 3}))\n",
    "print(dict_to_list({\"likes\": 2,\"dislikes\": 3,\"followers\": 10}))"
   ]
  },
  {
   "cell_type": "code",
   "execution_count": null,
   "id": "7b3090dd",
   "metadata": {},
   "outputs": [],
   "source": []
  },
  {
   "cell_type": "code",
   "execution_count": null,
   "id": "e28c58b3",
   "metadata": {},
   "outputs": [],
   "source": []
  },
  {
   "cell_type": "markdown",
   "id": "6c7a6462",
   "metadata": {},
   "source": [
    "Question3\n",
    "Write a function that creates a dictionary with each (key, value) pair being the (lower case,\n",
    "upper case) versions of a letter, respectively.\n",
    "Examples\n",
    "mapping([\"p\", \"s\"]) ➞ { \"p\": \"P\", \"s\": \"S\" }\n",
    "mapping([\"a\", \"b\", \"c\"]) ➞ { \"a\": \"A\", \"b\": \"B\", \"c\": \"C\" }\n",
    "mapping([\"a\", \"v\", \"y\", \"z\"]) ➞ { \"a\": \"A\", \"v\": \"V\", \"y\": \"Y\", \"z\": \"Z\" }Notes\n",
    "All of the letters in the input list will always be lowercase."
   ]
  },
  {
   "cell_type": "code",
   "execution_count": 17,
   "id": "4f537072",
   "metadata": {},
   "outputs": [
    {
     "name": "stdout",
     "output_type": "stream",
     "text": [
      "{'p': 'P', 's': 'S'}\n",
      "{'a': 'A', 'b': 'B', 'c': 'C'}\n",
      "{'a': 'A', 'v': 'V', 'y': 'Y', 'z': 'Z'}\n"
     ]
    }
   ],
   "source": [
    "def mapping(list1):\n",
    "    new_dict={}\n",
    "    for i in list1:\n",
    "        new_dict[i]=i.upper()\n",
    "    return new_dict\n",
    "        \n",
    "print(mapping([\"p\", \"s\"]))\n",
    "print(mapping([\"a\", \"b\", \"c\"]))\n",
    "print(mapping([\"a\", \"v\", \"y\", \"z\"]))"
   ]
  },
  {
   "cell_type": "code",
   "execution_count": null,
   "id": "bc0b8ceb",
   "metadata": {},
   "outputs": [],
   "source": []
  },
  {
   "cell_type": "code",
   "execution_count": null,
   "id": "0f4bd0df",
   "metadata": {},
   "outputs": [],
   "source": []
  },
  {
   "cell_type": "markdown",
   "id": "c5a133e6",
   "metadata": {},
   "source": [
    "Question4\n",
    "Write a function, that replaces all vowels in a string with a specified vowel.\n",
    "Examples\n",
    "vow_replace(\"apples and bananas\", \"u\") ➞ \"upplus und bununus\"\n",
    "vow_replace(\"cheese casserole\", \"o\") ➞ \"chooso cossorolo\"\n",
    "vow_replace(\"stuffed jalapeno poppers\", \"e\") ➞ \"steffed jelepene peppers\"\n",
    "Notes\n",
    "All words will be lowercase. Y is not considered a vowel."
   ]
  },
  {
   "cell_type": "code",
   "execution_count": 27,
   "id": "d4469b12",
   "metadata": {},
   "outputs": [
    {
     "name": "stdout",
     "output_type": "stream",
     "text": [
      "upplus und bununus\n",
      "chooso cossorolo\n",
      "steffed jelepene peppers\n"
     ]
    }
   ],
   "source": [
    "def vow_replace(string,vow):\n",
    "    vowel_list=['a','e','i','o','u']\n",
    "    string=string.lower()\n",
    "    for i in string:\n",
    "        if i in vowel_list:\n",
    "            string=string.replace(i,vow)\n",
    "    return string\n",
    "\n",
    "print(vow_replace(\"apples and bananas\", \"u\"))\n",
    "print(vow_replace(\"cheese casserole\", \"o\"))\n",
    "print(vow_replace(\"stuffed jalapeno poppers\", \"e\"))"
   ]
  },
  {
   "cell_type": "code",
   "execution_count": null,
   "id": "969c0734",
   "metadata": {},
   "outputs": [],
   "source": []
  },
  {
   "cell_type": "code",
   "execution_count": null,
   "id": "0f7f7c16",
   "metadata": {},
   "outputs": [],
   "source": []
  },
  {
   "cell_type": "markdown",
   "id": "ccbe4477",
   "metadata": {},
   "source": [
    "Question5\n",
    "Create a function that takes a string as input and capitalizes a letter if its ASCII code is even\n",
    "and returns its lower case version if its ASCII code is odd.\n",
    "Examples\n",
    "ascii_capitalize(\"to be or not to be!\") ➞ \"To Be oR NoT To Be!\"\n",
    "ascii_capitalize(\"THE LITTLE MERMAID\") ➞ \"THe LiTTLe meRmaiD\"\n",
    "ascii_capitalize(\"Oh what a beautiful morning.\") ➞ \"oH wHaT a BeauTiFuL moRNiNg.\""
   ]
  },
  {
   "cell_type": "code",
   "execution_count": 28,
   "id": "19eb05d2",
   "metadata": {},
   "outputs": [
    {
     "name": "stdout",
     "output_type": "stream",
     "text": [
      "To Be oR NoT To Be!\n",
      "THe LiTTLe meRmaiD\n",
      "oH wHaT a BeauTiFuL moRNiNg.\n"
     ]
    }
   ],
   "source": [
    "def ascii_capitalize(string):\n",
    "    for i in string:\n",
    "        if ord(i)%2==0:\n",
    "            string=string.replace(i,i.upper())\n",
    "        else:\n",
    "            string=string.replace(i,i.lower())\n",
    "    return string\n",
    "\n",
    "print(ascii_capitalize(\"to be or not to be!\"))\n",
    "print(ascii_capitalize(\"THE LITTLE MERMAID\"))\n",
    "print(ascii_capitalize(\"Oh what a beautiful morning.\"))"
   ]
  },
  {
   "cell_type": "code",
   "execution_count": null,
   "id": "6bcc7d48",
   "metadata": {},
   "outputs": [],
   "source": []
  }
 ],
 "metadata": {
  "kernelspec": {
   "display_name": "Python 3 (ipykernel)",
   "language": "python",
   "name": "python3"
  },
  "language_info": {
   "codemirror_mode": {
    "name": "ipython",
    "version": 3
   },
   "file_extension": ".py",
   "mimetype": "text/x-python",
   "name": "python",
   "nbconvert_exporter": "python",
   "pygments_lexer": "ipython3",
   "version": "3.9.7"
  }
 },
 "nbformat": 4,
 "nbformat_minor": 5
}
