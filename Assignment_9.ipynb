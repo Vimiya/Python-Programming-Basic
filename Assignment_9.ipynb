{
 "cells": [
  {
   "cell_type": "markdown",
   "id": "79e1a17c",
   "metadata": {},
   "source": [
    "# 1. Write a Python program to check if the given number is a Disarium Number?"
   ]
  },
  {
   "cell_type": "code",
   "execution_count": 10,
   "id": "155cfdd5",
   "metadata": {},
   "outputs": [
    {
     "name": "stdout",
     "output_type": "stream",
     "text": [
      "\n",
      "Is 25 a Disarium number? False\n",
      "\n",
      "Is 75 a Disarium number? False\n",
      "\n",
      "Is 89 a Disarium number? True\n",
      "\n",
      "Is 521 a Disarium number? False\n",
      "\n",
      "Is 175 a Disarium number? True\n"
     ]
    }
   ],
   "source": [
    "# A number is called Disarium if sum of its digits powered with their respective positions is equal to the number itself\n",
    "def is_disarium(num):\n",
    "    temp = 0\n",
    "    for i in range(len(str(num))):\n",
    "        temp += int(str(num)[i]) ** (i+1)\n",
    "    return temp == num\n",
    "\n",
    "num = 25\n",
    "print(\"\\nIs\",num,\"a Disarium number?\",is_disarium(num))\n",
    "num = 75\n",
    "print(\"\\nIs\",num,\"a Disarium number?\",is_disarium(num))\n",
    "num = 89\n",
    "print(\"\\nIs\",num,\"a Disarium number?\",is_disarium(num))\n",
    "num = 521\n",
    "print(\"\\nIs\",num,\"a Disarium number?\",is_disarium(num)) \n",
    "num = 175\n",
    "print(\"\\nIs\",num,\"a Disarium number?\",is_disarium(num))"
   ]
  },
  {
   "cell_type": "code",
   "execution_count": null,
   "id": "db193011",
   "metadata": {},
   "outputs": [],
   "source": []
  },
  {
   "cell_type": "markdown",
   "id": "07a30438",
   "metadata": {},
   "source": [
    "# 2. Write a Python program to print all disarium numbers between 1 to 100?"
   ]
  },
  {
   "cell_type": "code",
   "execution_count": 1,
   "id": "864126cf",
   "metadata": {},
   "outputs": [
    {
     "name": "stdout",
     "output_type": "stream",
     "text": [
      "\n",
      "The List of Disarium Numbers from 1 and 100:\n",
      "1   2   3   4   5   6   7   8   9   89   "
     ]
    }
   ],
   "source": [
    "# Python Program to Print Disarium Numbers from 1 to 100\n",
    "import math\n",
    "\n",
    "def digitsCount(num):\n",
    "    length = 0\n",
    "    while num != 0:\n",
    "        length = length + 1\n",
    "        num = num // 10\n",
    "    return length\n",
    "\n",
    "def digitsSum(num):\n",
    "    Sum = 0\n",
    "    rem = 0\n",
    "    length = digitsCount(num)\n",
    "    while num > 0:\n",
    "        rem = num % 10\n",
    "        Sum = Sum + math.pow(rem, length)\n",
    "        num = num // 10\n",
    "        length = length - 1\n",
    "    return Sum\n",
    "\n",
    "print(\"\\nThe List of Disarium Numbers from 1 and 100:\") \n",
    "for i in range(1, 100):\n",
    "    Sum = digitsSum(i)\n",
    "\n",
    "    if Sum == i:\n",
    "        print(i, end = \"   \")"
   ]
  },
  {
   "cell_type": "code",
   "execution_count": null,
   "id": "2587259a",
   "metadata": {},
   "outputs": [],
   "source": []
  },
  {
   "cell_type": "markdown",
   "id": "18eb2fc6",
   "metadata": {},
   "source": [
    "# 3. Write a Python program to check if the given number is Happy Number?"
   ]
  },
  {
   "cell_type": "code",
   "execution_count": 14,
   "id": "62ffbe02",
   "metadata": {},
   "outputs": [
    {
     "name": "stdout",
     "output_type": "stream",
     "text": [
      "49 is a Happy number\n",
      "93 is not a happy number\n",
      "6 is not a happy number\n",
      "97 is a Happy number\n"
     ]
    }
   ],
   "source": [
    "# In number theory, a happy number is a number which eventually reaches 1 when replaced by the sum of the square \n",
    "# of each digit\n",
    "def is_Happy_num(n):\n",
    "    m=n\n",
    "    past = set()\n",
    "    while n != 1:\n",
    "        n = sum(int(i)**2 for i in str(n))\n",
    "        if n in past:\n",
    "            return f\"{m} is not a happy number\"\n",
    "        past.add(n)\n",
    "    return f\"{m} is a Happy number\"\n",
    "print(is_Happy_num(49))\n",
    "print(is_Happy_num(93))\n",
    "print(is_Happy_num(6))\n",
    "print(is_Happy_num(97))"
   ]
  },
  {
   "cell_type": "code",
   "execution_count": null,
   "id": "8d654e71",
   "metadata": {},
   "outputs": [],
   "source": []
  },
  {
   "cell_type": "markdown",
   "id": "cefdef97",
   "metadata": {},
   "source": [
    "# 4. Write a Python program to print all happy numbers between 1 and 100?"
   ]
  },
  {
   "cell_type": "code",
   "execution_count": 13,
   "id": "f7f15414",
   "metadata": {},
   "outputs": [
    {
     "name": "stdout",
     "output_type": "stream",
     "text": [
      "[1, 7, 10, 13, 19, 23, 28, 31, 32, 44, 49, 68, 70, 79, 82, 86, 91, 94, 97]\n"
     ]
    }
   ],
   "source": [
    "def happy_numbers(n):\n",
    "    past = set()\n",
    "    while n != 1:\n",
    "        n = sum(int(i)**2 for i in str(n))\n",
    "        if n in past:\n",
    "            return False\n",
    "        past.add(n)\n",
    "    return True\n",
    "print([x for x in range(100) if happy_numbers(x)])\n"
   ]
  },
  {
   "cell_type": "code",
   "execution_count": null,
   "id": "7b24d564",
   "metadata": {},
   "outputs": [],
   "source": []
  },
  {
   "cell_type": "markdown",
   "id": "038be13b",
   "metadata": {},
   "source": [
    "# 5. Write a Python program to determine whether the given number is a Harshad Number?"
   ]
  },
  {
   "cell_type": "code",
   "execution_count": 20,
   "id": "b03cd14d",
   "metadata": {},
   "outputs": [
    {
     "name": "stdout",
     "output_type": "stream",
     "text": [
      "Enter a Number = 156\n",
      "The Sum of the Digits = 12\n",
      "\n",
      "156 is a Harshad Number.\n"
     ]
    }
   ],
   "source": [
    "# A positive integer which is divisible by the sum of its digits is called a Harshad number\n",
    "# It is also called as Niven number\n",
    "num = int(input(\"Enter a Number = \"))\n",
    "sum = 0\n",
    "rem = 0\n",
    "\n",
    "temp = num\n",
    "while temp > 0:\n",
    "    rem = temp % 10\n",
    "    sum = sum + rem\n",
    "    temp = temp // 10\n",
    "\n",
    "print(\"The Sum of the Digits = %d\" %sum)\n",
    "\n",
    "if num % sum == 0:\n",
    "    print(\"\\n%d is a Harshad Number.\" %num)\n",
    "else:\n",
    "    print(\"%d is Not a Harshad Number.\" %num)"
   ]
  },
  {
   "cell_type": "code",
   "execution_count": null,
   "id": "7067e5d6",
   "metadata": {},
   "outputs": [],
   "source": []
  },
  {
   "cell_type": "markdown",
   "id": "f79a40fb",
   "metadata": {},
   "source": [
    "# 6. Write a Python program to print all pronic numbers between 1 and 100?"
   ]
  },
  {
   "cell_type": "code",
   "execution_count": 22,
   "id": "1e2e3362",
   "metadata": {},
   "outputs": [
    {
     "name": "stdout",
     "output_type": "stream",
     "text": [
      "Pronic numbers between 1 and 100: \n",
      "2\n",
      "6\n",
      "12\n",
      "20\n",
      "30\n",
      "42\n",
      "56\n",
      "72\n",
      "90\n"
     ]
    }
   ],
   "source": [
    "# Any given number is called as a pronic number if the value of that number is equal to the ....\n",
    "# product of two consecutive integers of the form: n(n+1). Eg. 6 is a pronic number because 6 = 2 x 3\n",
    "\n",
    "#isPronicNumber() will determine whether a given number is a pronic number or not    \n",
    "def isPronicNumber(num):    \n",
    "    flag = False;    \n",
    "        \n",
    "    for j in range(1, num+1): \n",
    "        #Checks for pronic number by multiplying consecutive numbers    \n",
    "        if((j*(j+1)) == num):    \n",
    "            flag = True;    \n",
    "            break;    \n",
    "    return flag;    \n",
    "     \n",
    "#Displays pronic numbers between 1 and 100    \n",
    "print(\"Pronic numbers between 1 and 100: \");    \n",
    "for i in range(1, 101):    \n",
    "    if(isPronicNumber(i)):    \n",
    "        print(i)    "
   ]
  },
  {
   "cell_type": "code",
   "execution_count": null,
   "id": "b7f5c44c",
   "metadata": {},
   "outputs": [],
   "source": []
  }
 ],
 "metadata": {
  "kernelspec": {
   "display_name": "Python 3 (ipykernel)",
   "language": "python",
   "name": "python3"
  },
  "language_info": {
   "codemirror_mode": {
    "name": "ipython",
    "version": 3
   },
   "file_extension": ".py",
   "mimetype": "text/x-python",
   "name": "python",
   "nbconvert_exporter": "python",
   "pygments_lexer": "ipython3",
   "version": "3.9.7"
  }
 },
 "nbformat": 4,
 "nbformat_minor": 5
}
