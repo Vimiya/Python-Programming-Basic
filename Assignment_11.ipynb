{
 "cells": [
  {
   "cell_type": "markdown",
   "id": "e1aa9278",
   "metadata": {},
   "source": [
    "# 1. Write a Python program to find words which are greater than given length k?"
   ]
  },
  {
   "cell_type": "code",
   "execution_count": 3,
   "id": "d0662ede",
   "metadata": {},
   "outputs": [
    {
     "name": "stdout",
     "output_type": "stream",
     "text": [
      "Using approach 1\n",
      "['Hello', 'everyone', 'doing', 'well.']\n",
      "Using approach 2\n",
      "['Hello', 'everyone', 'doing', 'well.']\n"
     ]
    }
   ],
   "source": [
    "# Approach 1 using list comprehension\n",
    "sentence = \"Hello everyone I hope you all are doing well.\"\n",
    "length = 4\n",
    "print('Using approach 1')\n",
    "print([word for word in sentence.split() if len(word) > length])\n",
    "\n",
    "# Approach 2 using enumerate function\n",
    "sentence = \"Hello everyone I hope you all are doing well.\"\n",
    "length = 4\n",
    "s=sentence.split()\n",
    "print('Using approach 2')\n",
    "print([a for i,a in enumerate(s) if len(a) > length])"
   ]
  },
  {
   "cell_type": "code",
   "execution_count": null,
   "id": "d778fc18",
   "metadata": {},
   "outputs": [],
   "source": []
  },
  {
   "cell_type": "markdown",
   "id": "a0b661cf",
   "metadata": {},
   "source": [
    "# 2. Write a Python program for removing i-th character from a string?"
   ]
  },
  {
   "cell_type": "code",
   "execution_count": 6,
   "id": "ae145e1e",
   "metadata": {},
   "outputs": [
    {
     "name": "stdout",
     "output_type": "stream",
     "text": [
      "Enter the string : Hello all hope you guys are fine\n",
      "Enter the index of character to be removed : 8\n",
      "String you entered : Hello all hope you guys are fine\n",
      "String after removing i'th character : Hello al hope you guys are fine\n"
     ]
    }
   ],
   "source": [
    "my_string =  input('Enter the string : ')\n",
    "i = int(input('Enter the index of character to be removed : '))\n",
    "\n",
    "final_string = \"\"\n",
    "\n",
    "for index in range(len(my_string)):\n",
    "    if index != i:\n",
    "        final_string = final_string + my_string[index]\n",
    "\n",
    "print (\"String you entered : \" + my_string)\n",
    "print (\"String after removing i'th character : \" + final_string)\n"
   ]
  },
  {
   "cell_type": "code",
   "execution_count": null,
   "id": "50510c85",
   "metadata": {},
   "outputs": [],
   "source": []
  },
  {
   "cell_type": "markdown",
   "id": "c90a05c3",
   "metadata": {},
   "source": [
    "# 3. Write a Python program to split and join a string?"
   ]
  },
  {
   "cell_type": "code",
   "execution_count": 8,
   "id": "b9e76b52",
   "metadata": {},
   "outputs": [
    {
     "name": "stdout",
     "output_type": "stream",
     "text": [
      "After Splitting:  ['Welcome', 'all', 'hello', 'all']\n",
      "After joining:  Welcome-all-hello-all\n"
     ]
    }
   ],
   "source": [
    "def split_string(string):\n",
    "    # Splitting based on space delimiter\n",
    "    list_string = string.split(' ')\n",
    "    return list_string\n",
    "\n",
    "def join_string(list_string):\n",
    "    # Joining based on '-' delimiter\n",
    "    string = '-'.join(list_string)\n",
    "    return string\n",
    "\n",
    "string = 'Welcome all hello all'\n",
    "# Splitting entered string\n",
    "list_string = split_string(string)\n",
    "print(\"After Splitting: \",list_string)\n",
    "\n",
    "# Joining list of strings into one\n",
    "res_string = join_string(list_string)\n",
    "print(\"After joining: \",res_string)"
   ]
  },
  {
   "cell_type": "code",
   "execution_count": null,
   "id": "a5b4e43f",
   "metadata": {},
   "outputs": [],
   "source": []
  },
  {
   "cell_type": "markdown",
   "id": "7314c404",
   "metadata": {},
   "source": [
    "# 4. Write a Python to check if a given string is binary string or not?"
   ]
  },
  {
   "cell_type": "code",
   "execution_count": 10,
   "id": "8b7be8f5",
   "metadata": {},
   "outputs": [
    {
     "name": "stdout",
     "output_type": "stream",
     "text": [
      "You entered Binary String\n",
      "You entered Non Binary String\n"
     ]
    }
   ],
   "source": [
    "def check_binary(string):\n",
    "    b = set(string)\n",
    "    s = {'0', '1'}\n",
    "    if s == b or b == {'0'} or b == {'1'}:\n",
    "        print(\"You entered Binary String\")\n",
    "    else :\n",
    "        print(\"You entered Non Binary String\")\n",
    "  \n",
    "st= \"00110101\"\n",
    "check_binary(st)\n",
    "st2 = \"1010100200111\"\n",
    "check_binary(st2)"
   ]
  },
  {
   "cell_type": "code",
   "execution_count": null,
   "id": "088ad816",
   "metadata": {},
   "outputs": [],
   "source": []
  },
  {
   "cell_type": "markdown",
   "id": "efeab1f9",
   "metadata": {},
   "source": [
    "# 5. Write a Python program to find uncommon words from two Strings?"
   ]
  },
  {
   "cell_type": "code",
   "execution_count": 17,
   "id": "b75953d2",
   "metadata": {},
   "outputs": [
    {
     "name": "stdout",
     "output_type": "stream",
     "text": [
      "Enter first string : Hello everybody nice to meet you\n",
      "Enter second string : Hello all how are you all\n",
      "All uncommon words from both the string are   everybody nice to meet all how are all\n"
     ]
    }
   ],
   "source": [
    "# asking user to enter 2 strings \n",
    "str1 = input('Enter first string : ')\n",
    "str2 = input('Enter second string : ')\n",
    "\n",
    "# finding uncommon words\n",
    "str1List = str1.split()\n",
    "str2List = str2.split()\n",
    "uncommonWords = ''\n",
    "for word in str1List:\n",
    "    if word not in str2List:\n",
    "        uncommonWords = uncommonWords+\" \"+word\n",
    "for word in str2List:\n",
    "    if word not in str1List:\n",
    "        uncommonWords = uncommonWords+\" \"+word\n",
    "\n",
    "# printing uncommon words\n",
    "print(\"All uncommon words from both the string are \", uncommonWords)\n"
   ]
  },
  {
   "cell_type": "code",
   "execution_count": null,
   "id": "9f81f0d1",
   "metadata": {},
   "outputs": [],
   "source": []
  },
  {
   "cell_type": "markdown",
   "id": "53b9a07e",
   "metadata": {},
   "source": [
    "# 6. Write a Python to find all duplicate characters in string?"
   ]
  },
  {
   "cell_type": "code",
   "execution_count": 12,
   "id": "01970d07",
   "metadata": {},
   "outputs": [
    {
     "name": "stdout",
     "output_type": "stream",
     "text": [
      "Duplicate characters in a given string: \n",
      "e\n",
      "l\n",
      "o\n"
     ]
    }
   ],
   "source": [
    "string = \"Hello friends welcome you all\";  \n",
    "   \n",
    "print(\"Duplicate characters in a given string: \");  \n",
    "#Counts each character present in the string  \n",
    "for i in range(0, len(string)):  \n",
    "    count = 1;  \n",
    "    for j in range(i+1, len(string)):  \n",
    "        if(string[i] == string[j] and string[i] != ' '):  \n",
    "            count = count + 1;  \n",
    "            #Set string[j] to 0 to avoid printing visited character  \n",
    "            string = string[:j] + '0' + string[j+1:];  \n",
    "   \n",
    "    #A character is considered as duplicate if count is greater than 1  \n",
    "    if(count > 1 and string[i] != '0'):  \n",
    "        print(string[i]);  "
   ]
  },
  {
   "cell_type": "code",
   "execution_count": null,
   "id": "a482a205",
   "metadata": {},
   "outputs": [],
   "source": []
  },
  {
   "cell_type": "markdown",
   "id": "1f86d0dc",
   "metadata": {},
   "source": [
    "# 7. Write a Python Program to check if a string contains any special character?"
   ]
  },
  {
   "cell_type": "code",
   "execution_count": 16,
   "id": "40c7076f",
   "metadata": {},
   "outputs": [
    {
     "name": "stdout",
     "output_type": "stream",
     "text": [
      "Enter string: Hello !! Nice to meet you\n",
      "Entered string has special character\n"
     ]
    }
   ],
   "source": [
    "n=input('Enter string: ')\n",
    "n.split()\n",
    "c=0\n",
    "s='[@_!#$%^&*()<>?/\\|}{~:]' # s is special character set\n",
    "for i in range(len(n)):\n",
    "# checking if any special character is present in given string or not\n",
    "    if n[i] in s:\n",
    "        c+=1 \n",
    "    \n",
    "# if c value is greater than 0 then print no\n",
    "# means special character is found in string\n",
    "if c>0:\n",
    "    print(\"Entered string has special character\")\n",
    "else:\n",
    "    print(\"Entered string does not have any special character\")"
   ]
  },
  {
   "cell_type": "code",
   "execution_count": null,
   "id": "93d79cc9",
   "metadata": {},
   "outputs": [],
   "source": []
  }
 ],
 "metadata": {
  "kernelspec": {
   "display_name": "Python 3 (ipykernel)",
   "language": "python",
   "name": "python3"
  },
  "language_info": {
   "codemirror_mode": {
    "name": "ipython",
    "version": 3
   },
   "file_extension": ".py",
   "mimetype": "text/x-python",
   "name": "python",
   "nbconvert_exporter": "python",
   "pygments_lexer": "ipython3",
   "version": "3.9.7"
  }
 },
 "nbformat": 4,
 "nbformat_minor": 5
}
