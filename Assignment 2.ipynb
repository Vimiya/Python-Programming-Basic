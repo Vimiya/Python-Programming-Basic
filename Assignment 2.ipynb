{
 "cells": [
  {
   "cell_type": "markdown",
   "id": "796c0b26",
   "metadata": {},
   "source": [
    "# Write a Python program to convert kilometers to miles? \n"
   ]
  },
  {
   "cell_type": "code",
   "execution_count": 12,
   "id": "62dc46b0",
   "metadata": {},
   "outputs": [
    {
     "name": "stdout",
     "output_type": "stream",
     "text": [
      "Enter value in kilometers: 67\n",
      "67.00 kilometers is equal to 41.63 miles\n"
     ]
    }
   ],
   "source": [
    "km=float(input('Enter value in kilometers: '))\n",
    "miles = km * 0.621371\n",
    "print('%0.2f kilometers is equal to %0.2f miles' %(km,miles))\n"
   ]
  },
  {
   "cell_type": "code",
   "execution_count": null,
   "id": "3bb109e2",
   "metadata": {},
   "outputs": [],
   "source": []
  },
  {
   "cell_type": "markdown",
   "id": "48ed379d",
   "metadata": {},
   "source": [
    "# Write a Python program to convert Celsius to Fahrenheit? \n"
   ]
  },
  {
   "cell_type": "code",
   "execution_count": 1,
   "id": "435dfdc5",
   "metadata": {},
   "outputs": [
    {
     "name": "stdout",
     "output_type": "stream",
     "text": [
      "Enter temperature value in celsius: 37.5\n",
      "37.5 degree celsius is equal to 99.5 fahrenheit\n"
     ]
    }
   ],
   "source": [
    "temp_val=float(input('Enter temperature value in celsius: '))\n",
    "print('%0.1f degree celsius is equal to %0.1f fahrenheit' %(temp_val,(temp_val*1.8)+32))"
   ]
  },
  {
   "cell_type": "markdown",
   "id": "ef3d5c77",
   "metadata": {},
   "source": [
    "# Write a Python program to display calendar? "
   ]
  },
  {
   "cell_type": "code",
   "execution_count": 2,
   "id": "a5a638d9",
   "metadata": {},
   "outputs": [
    {
     "name": "stdout",
     "output_type": "stream",
     "text": [
      "Enter any year: 2021\n",
      "                                  2021\n",
      "\n",
      "      January                   February                   March\n",
      "Mo Tu We Th Fr Sa Su      Mo Tu We Th Fr Sa Su      Mo Tu We Th Fr Sa Su\n",
      "             1  2  3       1  2  3  4  5  6  7       1  2  3  4  5  6  7\n",
      " 4  5  6  7  8  9 10       8  9 10 11 12 13 14       8  9 10 11 12 13 14\n",
      "11 12 13 14 15 16 17      15 16 17 18 19 20 21      15 16 17 18 19 20 21\n",
      "18 19 20 21 22 23 24      22 23 24 25 26 27 28      22 23 24 25 26 27 28\n",
      "25 26 27 28 29 30 31                                29 30 31\n",
      "\n",
      "       April                      May                       June\n",
      "Mo Tu We Th Fr Sa Su      Mo Tu We Th Fr Sa Su      Mo Tu We Th Fr Sa Su\n",
      "          1  2  3  4                      1  2          1  2  3  4  5  6\n",
      " 5  6  7  8  9 10 11       3  4  5  6  7  8  9       7  8  9 10 11 12 13\n",
      "12 13 14 15 16 17 18      10 11 12 13 14 15 16      14 15 16 17 18 19 20\n",
      "19 20 21 22 23 24 25      17 18 19 20 21 22 23      21 22 23 24 25 26 27\n",
      "26 27 28 29 30            24 25 26 27 28 29 30      28 29 30\n",
      "                          31\n",
      "\n",
      "        July                     August                  September\n",
      "Mo Tu We Th Fr Sa Su      Mo Tu We Th Fr Sa Su      Mo Tu We Th Fr Sa Su\n",
      "          1  2  3  4                         1             1  2  3  4  5\n",
      " 5  6  7  8  9 10 11       2  3  4  5  6  7  8       6  7  8  9 10 11 12\n",
      "12 13 14 15 16 17 18       9 10 11 12 13 14 15      13 14 15 16 17 18 19\n",
      "19 20 21 22 23 24 25      16 17 18 19 20 21 22      20 21 22 23 24 25 26\n",
      "26 27 28 29 30 31         23 24 25 26 27 28 29      27 28 29 30\n",
      "                          30 31\n",
      "\n",
      "      October                   November                  December\n",
      "Mo Tu We Th Fr Sa Su      Mo Tu We Th Fr Sa Su      Mo Tu We Th Fr Sa Su\n",
      "             1  2  3       1  2  3  4  5  6  7             1  2  3  4  5\n",
      " 4  5  6  7  8  9 10       8  9 10 11 12 13 14       6  7  8  9 10 11 12\n",
      "11 12 13 14 15 16 17      15 16 17 18 19 20 21      13 14 15 16 17 18 19\n",
      "18 19 20 21 22 23 24      22 23 24 25 26 27 28      20 21 22 23 24 25 26\n",
      "25 26 27 28 29 30 31      29 30                     27 28 29 30 31\n",
      "\n"
     ]
    }
   ],
   "source": [
    "import calendar\n",
    "year=int(input('Enter any year: '))\n",
    "print(calendar.calendar(year))"
   ]
  },
  {
   "cell_type": "markdown",
   "id": "0c1e31c2",
   "metadata": {},
   "source": [
    "# Write a Python program to solve quadratic equation? "
   ]
  },
  {
   "cell_type": "code",
   "execution_count": 3,
   "id": "b98c27a5",
   "metadata": {},
   "outputs": [
    {
     "name": "stdout",
     "output_type": "stream",
     "text": [
      "The solutions are (-3+0j) and (-2+0j)\n"
     ]
    }
   ],
   "source": [
    "import cmath\n",
    "a=1\n",
    "b=5\n",
    "c=6\n",
    "\n",
    "# to calculate the discriminant\n",
    "d=(b*b)-(4*a*c)\n",
    "\n",
    "# to find solutions of quadratic equation\n",
    "s1=(-b-cmath.sqrt(d))/(2*a)\n",
    "s2=(-b+cmath.sqrt(d))/(2*a)\n",
    "\n",
    "print('The solutions are {} and {}'.format(s1,s2))"
   ]
  },
  {
   "cell_type": "markdown",
   "id": "58046286",
   "metadata": {},
   "source": [
    "# Write a Python program to swap two variables without temp variable? \n"
   ]
  },
  {
   "cell_type": "code",
   "execution_count": 5,
   "id": "b1c49288",
   "metadata": {},
   "outputs": [
    {
     "name": "stdout",
     "output_type": "stream",
     "text": [
      "Values before swapping: \n",
      "value of m: hello and n: everyone\n",
      "Values after swapping: \n",
      "Value of m: everyone  and n: hello\n"
     ]
    }
   ],
   "source": [
    "m='hello'\n",
    "n='everyone'\n",
    "print('Values before swapping: ')\n",
    "print('value of m:',m, 'and n:',n)\n",
    "m,n=n,m\n",
    "\n",
    "print('Values after swapping: ')\n",
    "print('Value of m:',m,' and n:',n)"
   ]
  },
  {
   "cell_type": "code",
   "execution_count": null,
   "id": "54e678f8",
   "metadata": {},
   "outputs": [],
   "source": []
  }
 ],
 "metadata": {
  "kernelspec": {
   "display_name": "Python 3 (ipykernel)",
   "language": "python",
   "name": "python3"
  },
  "language_info": {
   "codemirror_mode": {
    "name": "ipython",
    "version": 3
   },
   "file_extension": ".py",
   "mimetype": "text/x-python",
   "name": "python",
   "nbconvert_exporter": "python",
   "pygments_lexer": "ipython3",
   "version": "3.9.7"
  }
 },
 "nbformat": 4,
 "nbformat_minor": 5
}
