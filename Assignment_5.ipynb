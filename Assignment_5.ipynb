{
 "cells": [
  {
   "cell_type": "markdown",
   "id": "3b1b78e6",
   "metadata": {},
   "source": [
    "# 1. Write a Python Program to Find LCM?"
   ]
  },
  {
   "cell_type": "code",
   "execution_count": 2,
   "id": "4ee83b0b",
   "metadata": {},
   "outputs": [
    {
     "name": "stdout",
     "output_type": "stream",
     "text": [
      "Enter the first number:3\n",
      "Enter the second number:4\n",
      "LCM is: 12\n"
     ]
    }
   ],
   "source": [
    "a=int(input(\"Enter the first number:\"))\n",
    "b=int(input(\"Enter the second number:\"))\n",
    "if(a>b):\n",
    "    great=a\n",
    "else:\n",
    "    great=b\n",
    "while(1):\n",
    "    if(great%a==0 and great%b==0):\n",
    "        print(\"LCM is:\",great)\n",
    "        break\n",
    "    great=great+1"
   ]
  },
  {
   "cell_type": "code",
   "execution_count": null,
   "id": "0321c33a",
   "metadata": {},
   "outputs": [],
   "source": []
  },
  {
   "cell_type": "markdown",
   "id": "f26ca053",
   "metadata": {},
   "source": [
    "# 2. Write a Python Program to Find HCF?"
   ]
  },
  {
   "cell_type": "code",
   "execution_count": 19,
   "id": "90028ba3",
   "metadata": {},
   "outputs": [
    {
     "name": "stdout",
     "output_type": "stream",
     "text": [
      "Enter the first number:8\n",
      "Enter the second number:12\n",
      "HCF is:  4\n"
     ]
    }
   ],
   "source": [
    "a=int(input(\"Enter the first number:\"))\n",
    "b=int(input(\"Enter the second number:\"))\n",
    "if(a>b):\n",
    "    smaller=b\n",
    "else:\n",
    "    smaller=a\n",
    "for i in range(1,smaller+1):\n",
    "    if(a%i==0 and b%i==0):\n",
    "        hcf=i\n",
    "print(\"HCF is: \",hcf)"
   ]
  },
  {
   "cell_type": "code",
   "execution_count": null,
   "id": "abd39dbd",
   "metadata": {},
   "outputs": [],
   "source": []
  },
  {
   "cell_type": "markdown",
   "id": "6aaf2ff1",
   "metadata": {},
   "source": [
    "# 3. Write a Python Program to Convert Decimal to Binary, Octal and Hexadecimal?"
   ]
  },
  {
   "cell_type": "code",
   "execution_count": 5,
   "id": "50267006",
   "metadata": {},
   "outputs": [
    {
     "name": "stdout",
     "output_type": "stream",
     "text": [
      " Enter the Decimal Number: 45\n",
      "The given decimal number is 45  and its Binary equivalent:  0b101101\n",
      "The given decimal number is 45  and its Octal equivalent:  0o55\n",
      "The given decimal number 45  and its Hexadecimal equivalent:  0x2d\n"
     ]
    }
   ],
   "source": [
    "# function to convert decimal to binary  \n",
    "def dec_to_bin(a):  \n",
    "    decimal = int(a)   \n",
    "    print (\"The given decimal number is\", decimal, \" and its Binary equivalent: \", bin(decimal))  \n",
    "    \n",
    "# function to convert decimal to octal  \n",
    "def dec_to_oct(a):  \n",
    "    decimal = int(a)\n",
    "    print (\"The given decimal number is\", decimal, \" and its Octal equivalent: \", oct(decimal))  \n",
    "    \n",
    "# function to convert decimal to hexadecimal  \n",
    "def dec_to_hex(a):  \n",
    "    decimal = int(a) \n",
    "    print (\"The given decimal number\", decimal, \" and its Hexadecimal equivalent: \", hex(decimal))  \n",
    "    \n",
    "a = int (input (\" Enter the Decimal Number: \"))  \n",
    "dec_to_bin(a)  \n",
    "dec_to_oct(a)  \n",
    "dec_to_hex(a)  "
   ]
  },
  {
   "cell_type": "code",
   "execution_count": null,
   "id": "30a3e60f",
   "metadata": {},
   "outputs": [],
   "source": []
  },
  {
   "cell_type": "markdown",
   "id": "247abfe8",
   "metadata": {},
   "source": [
    "# 4. Write a Python Program To Find ASCII value of a character?"
   ]
  },
  {
   "cell_type": "code",
   "execution_count": 2,
   "id": "22d41d47",
   "metadata": {},
   "outputs": [
    {
     "name": "stdout",
     "output_type": "stream",
     "text": [
      "The ASCII value of 'm' is 109\n"
     ]
    }
   ],
   "source": [
    "c = 'm'\n",
    "print(\"The ASCII value of '\" + c + \"' is\", ord(c))"
   ]
  },
  {
   "cell_type": "code",
   "execution_count": null,
   "id": "fc9ee08d",
   "metadata": {},
   "outputs": [],
   "source": []
  },
  {
   "cell_type": "markdown",
   "id": "2d2630e3",
   "metadata": {},
   "source": [
    "# 5. Write a Python Program to Make a Simple Calculator with 4 basic mathematical operations?"
   ]
  },
  {
   "cell_type": "code",
   "execution_count": 1,
   "id": "dca5233d",
   "metadata": {},
   "outputs": [
    {
     "name": "stdout",
     "output_type": "stream",
     "text": [
      "Select operation.\n",
      "1.Add\n",
      "2.Subtract\n",
      "3.Multiply\n",
      "4.Divide\n",
      "Enter choice(1/2/3/4): 3\n",
      "Enter first number: 4\n",
      "Enter second number: 5\n",
      "4.0 * 5.0 = 20.0\n",
      "Let's do next calculation? (yes/no): yes\n",
      "Enter choice(1/2/3/4): 7\n",
      "Invalid Input,Please enter a number in range of 1 to 4\n",
      "Enter choice(1/2/3/4): 9\n",
      "Invalid Input,Please enter a number in range of 1 to 4\n",
      "Enter choice(1/2/3/4): 3\n",
      "Enter first number: 7\n",
      "Enter second number: 8\n",
      "7.0 * 8.0 = 56.0\n",
      "Let's do next calculation? (yes/no): no\n"
     ]
    }
   ],
   "source": [
    "# function that adds two numbers\n",
    "def add(x, y):\n",
    "    return x + y\n",
    "\n",
    "# function that subtracts two numbers\n",
    "def subtract(x, y):\n",
    "    return x - y\n",
    "\n",
    "# function that multiplies two numbers\n",
    "def multiply(x, y):\n",
    "    return x * y\n",
    "\n",
    "# function that divides two numbers\n",
    "def divide(x, y):\n",
    "    return x / y\n",
    "\n",
    "\n",
    "print(\"Select operation.\")\n",
    "print(\"1.Add\")\n",
    "print(\"2.Subtract\")\n",
    "print(\"3.Multiply\")\n",
    "print(\"4.Divide\")\n",
    "\n",
    "while True:\n",
    "    # takes input from the user\n",
    "    choice = input(\"Enter choice(1/2/3/4): \")\n",
    "\n",
    "    if choice in ('1', '2', '3', '4'):\n",
    "        num1 = float(input(\"Enter first number: \"))\n",
    "        num2 = float(input(\"Enter second number: \"))\n",
    "\n",
    "        if choice == '1':\n",
    "            print(num1, \"+\", num2, \"=\", add(num1, num2))\n",
    "\n",
    "        elif choice == '2':\n",
    "            print(num1, \"-\", num2, \"=\", subtract(num1, num2))\n",
    "\n",
    "        elif choice == '3':\n",
    "            print(num1, \"*\", num2, \"=\", multiply(num1, num2))\n",
    "\n",
    "        elif choice == '4':\n",
    "            print(num1, \"/\", num2, \"=\", divide(num1, num2))\n",
    "        \n",
    "        # to check if user wants to do another calculation\n",
    "        # break the while loop if answer is no\n",
    "        continue_yes_no = input(\"Let's do next calculation? (yes/no): \")\n",
    "        if continue_yes_no == \"no\":\n",
    "          break\n",
    "    \n",
    "    else:\n",
    "        print(\"Invalid Input,Please enter a number in range of 1 to 4\")"
   ]
  },
  {
   "cell_type": "code",
   "execution_count": null,
   "id": "e95d6b4c",
   "metadata": {},
   "outputs": [],
   "source": []
  }
 ],
 "metadata": {
  "kernelspec": {
   "display_name": "Python 3 (ipykernel)",
   "language": "python",
   "name": "python3"
  },
  "language_info": {
   "codemirror_mode": {
    "name": "ipython",
    "version": 3
   },
   "file_extension": ".py",
   "mimetype": "text/x-python",
   "name": "python",
   "nbconvert_exporter": "python",
   "pygments_lexer": "ipython3",
   "version": "3.9.7"
  }
 },
 "nbformat": 4,
 "nbformat_minor": 5
}
