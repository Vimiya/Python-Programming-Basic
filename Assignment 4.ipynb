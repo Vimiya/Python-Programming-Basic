{
 "cells": [
  {
   "cell_type": "markdown",
   "id": "27c3e2af",
   "metadata": {},
   "source": [
    "# Write a Python Program to Find the Factorial of a Number? "
   ]
  },
  {
   "cell_type": "code",
   "execution_count": null,
   "id": "6d01d8ba",
   "metadata": {},
   "outputs": [],
   "source": []
  },
  {
   "cell_type": "code",
   "execution_count": 3,
   "id": "d7f80b9f",
   "metadata": {},
   "outputs": [
    {
     "name": "stdout",
     "output_type": "stream",
     "text": [
      "Enter a number: 8\n",
      "The factorial of 8 is 40320\n"
     ]
    }
   ],
   "source": [
    "number=int(input('Enter a number: '))\n",
    "f=1\n",
    "if number==0:\n",
    "    print('the factorial of 0 is 1')\n",
    "elif number<0:\n",
    "    print('Factorial of negative numbers does not exist')\n",
    "else:\n",
    "    for i in range(1,number+1):\n",
    "       f=f*i \n",
    "    print('The factorial of',number,'is',f)"
   ]
  },
  {
   "cell_type": "code",
   "execution_count": null,
   "id": "6ce2744d",
   "metadata": {},
   "outputs": [],
   "source": []
  },
  {
   "cell_type": "markdown",
   "id": "461e855c",
   "metadata": {},
   "source": [
    "# Write a Python Program to Display the multiplication Table? "
   ]
  },
  {
   "cell_type": "code",
   "execution_count": 3,
   "id": "77cce8f6",
   "metadata": {},
   "outputs": [
    {
     "name": "stdout",
     "output_type": "stream",
     "text": [
      "Display multiplication table of? 17\n",
      "17 x 1 = 17\n",
      "17 x 2 = 34\n",
      "17 x 3 = 51\n",
      "17 x 4 = 68\n",
      "17 x 5 = 85\n",
      "17 x 6 = 102\n",
      "17 x 7 = 119\n",
      "17 x 8 = 136\n",
      "17 x 9 = 153\n",
      "17 x 10 = 170\n"
     ]
    }
   ],
   "source": [
    "num = int(input(\"Display multiplication table of? \"))\n",
    "\n",
    "for i in range(1, 11):\n",
    "   print(num, 'x', i, '=', num*i)\n"
   ]
  },
  {
   "cell_type": "code",
   "execution_count": null,
   "id": "4669bc8b",
   "metadata": {},
   "outputs": [],
   "source": []
  },
  {
   "cell_type": "markdown",
   "id": "6611fa6f",
   "metadata": {},
   "source": [
    "# Write a Python Program to Print the Fibonacci sequence? \n"
   ]
  },
  {
   "cell_type": "code",
   "execution_count": 10,
   "id": "63b217ed",
   "metadata": {},
   "outputs": [
    {
     "name": "stdout",
     "output_type": "stream",
     "text": [
      "Enter the number of terms you want in Fibonacci sequence: 5\n",
      "Fibonacci sequence of  5  terms is as follows:\n",
      "0\n",
      "1\n",
      "1\n",
      "2\n",
      "3\n"
     ]
    }
   ],
   "source": [
    "no_of_terms = int(input('Enter the number of terms you want in Fibonacci sequence: '))\n",
    "\n",
    "#initializing first two terms\n",
    "n1,n2=0,1\n",
    "count=0\n",
    "\n",
    "# check if the number of terms is valid\n",
    "if no_of_terms<=0:\n",
    "    print('Please enter a positive integer only')\n",
    "    \n",
    "# if there is only one term, print first term which is n1\n",
    "elif no_of_terms==1:\n",
    "    print('Fibonacci sequence upto',no_of_terms,'is:')\n",
    "    print(n1)\n",
    "    \n",
    "# generate Fibonacci sequence\n",
    "else:\n",
    "    print('Fibonacci sequence of ',no_of_terms,' terms is as follows:')\n",
    "    while count<no_of_terms:\n",
    "        print(n1)\n",
    "        nth=n1+n2\n",
    "        n1=n2\n",
    "        n2=nth\n",
    "        count+=1"
   ]
  },
  {
   "cell_type": "code",
   "execution_count": null,
   "id": "202243b7",
   "metadata": {},
   "outputs": [],
   "source": []
  },
  {
   "cell_type": "markdown",
   "id": "c148681b",
   "metadata": {},
   "source": [
    "# Write a Python Program to Check Armstrong Number? \n"
   ]
  },
  {
   "cell_type": "code",
   "execution_count": 55,
   "id": "9fcc31af",
   "metadata": {},
   "outputs": [
    {
     "name": "stdout",
     "output_type": "stream",
     "text": [
      "Enter number to check if it is Armstrong number or not: 153\n",
      "153 is an Armstrong number\n"
     ]
    }
   ],
   "source": [
    "num=int(input('Enter number to check if it is Armstrong number or not: '))\n",
    "while num<=0:\n",
    "    num=int(input('Enter only positive integer: '))\n",
    "    continue\n",
    "# order of number\n",
    "order = len(str(num))\n",
    "\n",
    "# initialize sum\n",
    "sum = 0\n",
    "\n",
    "temp = num\n",
    "while temp > 0:\n",
    "   digit = temp % 10\n",
    "   sum += digit ** order\n",
    "   temp //= 10\n",
    "\n",
    "if num == sum:\n",
    "   print(num,'is an Armstrong number')\n",
    "else:\n",
    "    print(num,'is not an Armstrong number')\n"
   ]
  },
  {
   "cell_type": "code",
   "execution_count": null,
   "id": "fb40f594",
   "metadata": {},
   "outputs": [],
   "source": []
  },
  {
   "cell_type": "markdown",
   "id": "3a76cb23",
   "metadata": {},
   "source": [
    "# Write a Python Program to Find Armstrong Number in an Interval? \n"
   ]
  },
  {
   "cell_type": "code",
   "execution_count": 51,
   "id": "437aedc0",
   "metadata": {},
   "outputs": [
    {
     "name": "stdout",
     "output_type": "stream",
     "text": [
      "Enter a positive integer as lower bound of interval to check for Armstrong numbers: 150\n",
      "Enter a positive integer as upper bound of interval to check for Armstrong numbers: 10000\n",
      "153\n",
      "370\n",
      "371\n",
      "407\n",
      "1634\n",
      "8208\n",
      "9474\n"
     ]
    }
   ],
   "source": [
    "# Program to check Armstrong numbers in a certain interval\n",
    "\n",
    "lower = int(input('Enter a positive integer as lower bound of interval to check for Armstrong numbers: '))\n",
    "while lower<=0:\n",
    "    lower=int(input('Enter only positive integer as lower bound: '))\n",
    "    continue\n",
    "upper = int(input('Enter a positive integer as upper bound of interval to check for Armstrong numbers: '))\n",
    "while upper<=0:\n",
    "    upper=int(input('Enter only positive integer as upper bound:'))\n",
    "    continue\n",
    "if upper>lower:    \n",
    "    for num in range(lower, upper + 1):\n",
    "\n",
    "       # order of number\n",
    "       order = len(str(num))\n",
    "\n",
    "       # initialize sum\n",
    "       sum = 0\n",
    "\n",
    "       temp = num\n",
    "       while temp > 0:\n",
    "           digit = temp % 10\n",
    "           sum += digit ** order\n",
    "           temp //= 10\n",
    "\n",
    "       if num == sum:\n",
    "           print(num)\n",
    "            \n",
    "else:\n",
    "    print('Please enter upper bound which is greater than lower bound you entered')\n"
   ]
  },
  {
   "cell_type": "code",
   "execution_count": null,
   "id": "d8a39e1d",
   "metadata": {},
   "outputs": [],
   "source": []
  },
  {
   "cell_type": "markdown",
   "id": "a2c62d10",
   "metadata": {},
   "source": [
    "# Write a Python Program to Find the Sum of Natural Numbers? "
   ]
  },
  {
   "cell_type": "code",
   "execution_count": 59,
   "id": "bc93157f",
   "metadata": {},
   "outputs": [
    {
     "name": "stdout",
     "output_type": "stream",
     "text": [
      "Enter a natural number: 23\n",
      "Sum of Natural numbers till 23 is 276\n"
     ]
    }
   ],
   "source": [
    "num=int(input('Enter a natural number: '))\n",
    "sum=0\n",
    "for i in range(1,num+1):\n",
    "    sum=sum+i\n",
    "print('Sum of Natural numbers till',num,'is',sum)"
   ]
  },
  {
   "cell_type": "code",
   "execution_count": null,
   "id": "6fbbd1fb",
   "metadata": {},
   "outputs": [],
   "source": []
  }
 ],
 "metadata": {
  "kernelspec": {
   "display_name": "Python 3 (ipykernel)",
   "language": "python",
   "name": "python3"
  },
  "language_info": {
   "codemirror_mode": {
    "name": "ipython",
    "version": 3
   },
   "file_extension": ".py",
   "mimetype": "text/x-python",
   "name": "python",
   "nbconvert_exporter": "python",
   "pygments_lexer": "ipython3",
   "version": "3.9.7"
  }
 },
 "nbformat": 4,
 "nbformat_minor": 5
}
