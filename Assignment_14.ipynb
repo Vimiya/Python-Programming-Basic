{
 "cells": [
  {
   "cell_type": "markdown",
   "id": "7c2feaf2",
   "metadata": {},
   "source": [
    "Question 1:\n",
    "Define a class with a generator which can iterate the numbers, which are divisible by 7, between a given range 0 and n."
   ]
  },
  {
   "cell_type": "code",
   "execution_count": 3,
   "id": "a813c5d8",
   "metadata": {},
   "outputs": [
    {
     "name": "stdout",
     "output_type": "stream",
     "text": [
      "0 7 14 21 28 35 42 49 "
     ]
    }
   ],
   "source": [
    "class Iterate:\n",
    "    def __init__(self,num):\n",
    "        self.num=num\n",
    "    def div_by_7(self):\n",
    "        for elem in range(0,self.num+1):\n",
    "            if elem%7==0:\n",
    "                yield elem\n",
    "                \n",
    "obj=Iterate(50)\n",
    "for i in obj.div_by_7():\n",
    "    print(i,end=' ')"
   ]
  },
  {
   "cell_type": "code",
   "execution_count": null,
   "id": "566a8a0b",
   "metadata": {},
   "outputs": [],
   "source": []
  },
  {
   "cell_type": "markdown",
   "id": "cfdf17ba",
   "metadata": {},
   "source": [
    "Question 2:\n",
    "Write a program to compute the frequency of the words from the input. The output should output after sorting the key alphanumerically.\n",
    "Suppose the following input is supplied to the program:\n",
    "New to Python or choosing between Python 2 and Python 3? Read Python 2 or\n",
    "Python 3.\n",
    "Then, the output should be:\n",
    "2:2\n",
    "3.:1\n",
    "3?:1\n",
    "New:1\n",
    "Python:5\n",
    "Read:1\n",
    "and:1\n",
    "between:1\n",
    "choosing:1\n",
    "or:2\n",
    "to:1"
   ]
  },
  {
   "cell_type": "code",
   "execution_count": 6,
   "id": "799867a5",
   "metadata": {},
   "outputs": [
    {
     "name": "stdout",
     "output_type": "stream",
     "text": [
      "Enter the input string: New to Python or choosing between Python 2 and Python 3? Read Python 2 or Python 3.\n",
      "2:2\n",
      "3.:1\n",
      "3?:1\n",
      "New:1\n",
      "Python:5\n",
      "Read:1\n",
      "and:1\n",
      "between:1\n",
      "choosing:1\n",
      "or:2\n",
      "to:1\n"
     ]
    }
   ],
   "source": [
    "def freq_of_words():\n",
    "    full_string=input(\"Enter the input string: \")\n",
    "    freq={}\n",
    "    for elem in full_string.split(' '):\n",
    "        if freq.get(elem)==None:\n",
    "            freq[elem]=1\n",
    "        else:\n",
    "            freq[elem]+=1\n",
    "    for elem in sorted(freq):\n",
    "        print(f'{elem}:{freq[elem]}')\n",
    "        \n",
    "freq_of_words()"
   ]
  },
  {
   "cell_type": "code",
   "execution_count": null,
   "id": "cd7e523a",
   "metadata": {},
   "outputs": [],
   "source": []
  },
  {
   "cell_type": "markdown",
   "id": "270288b5",
   "metadata": {},
   "source": [
    "Question 3:\n",
    "Define a class Person and its two child classes: Male and Female. All classes have a\n",
    "method \"getGender\" which can print \"Male\" for Male class and \"Female\" for Female\n",
    "class."
   ]
  },
  {
   "cell_type": "code",
   "execution_count": 1,
   "id": "c59127b5",
   "metadata": {},
   "outputs": [],
   "source": [
    "class Person:\n",
    "    def getGender():\n",
    "        pass\n",
    "class Male(Person):\n",
    "    def getGender():\n",
    "        print('Male')\n",
    "class Female(Person):\n",
    "    def getGender():\n",
    "        print('Female')"
   ]
  },
  {
   "cell_type": "code",
   "execution_count": 5,
   "id": "92d0111c",
   "metadata": {},
   "outputs": [
    {
     "name": "stdout",
     "output_type": "stream",
     "text": [
      "Male\n",
      "Female\n"
     ]
    }
   ],
   "source": [
    "Male.getGender()\n",
    "Female.getGender()"
   ]
  },
  {
   "cell_type": "code",
   "execution_count": null,
   "id": "7890ad19",
   "metadata": {},
   "outputs": [],
   "source": []
  },
  {
   "cell_type": "markdown",
   "id": "49b2ce01",
   "metadata": {},
   "source": [
    "Question 4:\n",
    "Please write a program to generate all sentences where subject is in [\"I\", \"You\"] and\n",
    "verb is in [\"Play\", \"Love\"] and the object is in [\"Hockey\",\"Football\"]."
   ]
  },
  {
   "cell_type": "code",
   "execution_count": 6,
   "id": "88964d92",
   "metadata": {},
   "outputs": [],
   "source": [
    "def getallsentences():\n",
    "    Subject=['I','You']\n",
    "    Verb=['Play','Love']\n",
    "    Object=['Hockey','Football']\n",
    "    \n",
    "    for s in Subject:\n",
    "        for v in Verb:\n",
    "            for o in Object:\n",
    "                print(f'{s} {v} {o}')"
   ]
  },
  {
   "cell_type": "code",
   "execution_count": 7,
   "id": "4c3d9dc2",
   "metadata": {},
   "outputs": [
    {
     "name": "stdout",
     "output_type": "stream",
     "text": [
      "I Play Hockey\n",
      "I Play Football\n",
      "I Love Hockey\n",
      "I Love Football\n",
      "You Play Hockey\n",
      "You Play Football\n",
      "You Love Hockey\n",
      "You Love Football\n"
     ]
    }
   ],
   "source": [
    "getallsentences()"
   ]
  },
  {
   "cell_type": "code",
   "execution_count": null,
   "id": "54ed1200",
   "metadata": {},
   "outputs": [],
   "source": []
  },
  {
   "cell_type": "markdown",
   "id": "524acf24",
   "metadata": {},
   "source": [
    "Question 5:\n",
    "Please write a program to compress and decompress the string \"hello world!hello world!hello world!hello world!\"."
   ]
  },
  {
   "cell_type": "code",
   "execution_count": 17,
   "id": "4b400216",
   "metadata": {},
   "outputs": [],
   "source": [
    "def compress(string):\n",
    "    index = 0\n",
    "    compressed = \"\"\n",
    "    len_str = len(string)\n",
    "    while index != len_str:\n",
    "        count = 1\n",
    "        while (index < len_str-1) and (string[index] == string[index+1]):\n",
    "            count = count + 1\n",
    "            index = index + 1\n",
    "        if count == 1:\n",
    "            compressed += str(string[index])\n",
    "        else:\n",
    "            compressed += str(string[index]) + str(count)\n",
    "        index = index + 1\n",
    "    return compressed\n",
    "       \n",
    " \n",
    "def decompress(in_string):\n",
    "    output = ''\n",
    "    for ele in range(len(in_string)):\n",
    "        if in_string[ele].isdigit():\n",
    "            output += output[-1]*(int(in_string[ele])-1)\n",
    "        else:\n",
    "            output += in_string[ele]\n",
    "    print(output)"
   ]
  },
  {
   "cell_type": "code",
   "execution_count": 18,
   "id": "c46c78a5",
   "metadata": {},
   "outputs": [
    {
     "data": {
      "text/plain": [
       "'pytho3n3po2l'"
      ]
     },
     "execution_count": 18,
     "metadata": {},
     "output_type": "execute_result"
    }
   ],
   "source": [
    "compress(\"pythooonnnpool\")"
   ]
  },
  {
   "cell_type": "code",
   "execution_count": 19,
   "id": "fe940efb",
   "metadata": {},
   "outputs": [
    {
     "name": "stdout",
     "output_type": "stream",
     "text": [
      "pythooonnnpool\n"
     ]
    }
   ],
   "source": [
    "decompress(\"pytho3n3po2l\")"
   ]
  },
  {
   "cell_type": "code",
   "execution_count": null,
   "id": "a472453e",
   "metadata": {},
   "outputs": [],
   "source": []
  },
  {
   "cell_type": "code",
   "execution_count": null,
   "id": "1090e44c",
   "metadata": {},
   "outputs": [],
   "source": []
  },
  {
   "cell_type": "markdown",
   "id": "571ef5d8",
   "metadata": {},
   "source": [
    "Question 6:\n",
    "Please write a binary search function which searches an item in a sorted list. The function should return the index of element to be searched in the list."
   ]
  },
  {
   "cell_type": "code",
   "execution_count": 12,
   "id": "f288a219",
   "metadata": {},
   "outputs": [],
   "source": [
    "def binary_search(inp_list,elem):\n",
    "    low=0\n",
    "    high=len(inp_list)-1\n",
    "    while low<=high:\n",
    "        mid=(high+low)//2\n",
    "        if inp_list[mid]<elem:\n",
    "            low=mid+1\n",
    "        elif inp_list[mid]>elem:\n",
    "            high=mid-1\n",
    "        else:\n",
    "            return mid\n",
    "    else:\n",
    "        return \"Input element not in the list\""
   ]
  },
  {
   "cell_type": "code",
   "execution_count": 13,
   "id": "cf970c01",
   "metadata": {},
   "outputs": [],
   "source": [
    "sorted_list = [1,2,3,4,5,6,7,8,9,10]"
   ]
  },
  {
   "cell_type": "code",
   "execution_count": 14,
   "id": "f734544f",
   "metadata": {},
   "outputs": [
    {
     "data": {
      "text/plain": [
       "'Input element not in the list'"
      ]
     },
     "execution_count": 14,
     "metadata": {},
     "output_type": "execute_result"
    }
   ],
   "source": [
    "binary_search(sorted_list,67)"
   ]
  },
  {
   "cell_type": "code",
   "execution_count": 15,
   "id": "65cf6744",
   "metadata": {},
   "outputs": [
    {
     "data": {
      "text/plain": [
       "4"
      ]
     },
     "execution_count": 15,
     "metadata": {},
     "output_type": "execute_result"
    }
   ],
   "source": [
    "binary_search(sorted_list,5)"
   ]
  }
 ],
 "metadata": {
  "kernelspec": {
   "display_name": "Python 3 (ipykernel)",
   "language": "python",
   "name": "python3"
  },
  "language_info": {
   "codemirror_mode": {
    "name": "ipython",
    "version": 3
   },
   "file_extension": ".py",
   "mimetype": "text/x-python",
   "name": "python",
   "nbconvert_exporter": "python",
   "pygments_lexer": "ipython3",
   "version": "3.9.7"
  }
 },
 "nbformat": 4,
 "nbformat_minor": 5
}
