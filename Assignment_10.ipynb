{
 "cells": [
  {
   "cell_type": "markdown",
   "id": "c19692f3",
   "metadata": {},
   "source": [
    "# 1. Write a Python program to find sum of elements in list?"
   ]
  },
  {
   "cell_type": "code",
   "execution_count": 2,
   "id": "769e442d",
   "metadata": {},
   "outputs": [
    {
     "name": "stdout",
     "output_type": "stream",
     "text": [
      "sum of list using sum() method:  36\n",
      "sum of list using loop:  36\n"
     ]
    }
   ],
   "source": [
    "# First approach (using sum() method)\n",
    "\n",
    "list = [12, 8, 9, 2, 5]\n",
    "print(\"sum of list using sum() method: \",sum(list))\n",
    "\n",
    "# Second approach (using concept of loop)\n",
    "def list_sum(list):\n",
    "    sum=0\n",
    "    for i in range(len(list)):\n",
    "        sum = sum+list[i]\n",
    "    return sum\n",
    "\n",
    "print(\"sum of list using loop: \",list_sum(list))"
   ]
  },
  {
   "cell_type": "code",
   "execution_count": null,
   "id": "9703c884",
   "metadata": {},
   "outputs": [],
   "source": []
  },
  {
   "cell_type": "markdown",
   "id": "7d646d9a",
   "metadata": {},
   "source": [
    "# 2. Write a Python program to Multiply all numbers in the list?"
   ]
  },
  {
   "cell_type": "code",
   "execution_count": 3,
   "id": "254e097b",
   "metadata": {},
   "outputs": [
    {
     "name": "stdout",
     "output_type": "stream",
     "text": [
      "product:  2112\n"
     ]
    }
   ],
   "source": [
    "def mul_list(list) :\n",
    "    product = 1\n",
    "    for i in list:\n",
    "         product = product * i\n",
    "    return product\n",
    "     \n",
    "\n",
    "list1 = [16, 11, 4, 3]\n",
    "print(\"product: \",mul_list(list1)) "
   ]
  },
  {
   "cell_type": "code",
   "execution_count": null,
   "id": "05c4fccd",
   "metadata": {},
   "outputs": [],
   "source": []
  },
  {
   "cell_type": "markdown",
   "id": "6bd147ab",
   "metadata": {},
   "source": [
    "# 3. Write a Python program to find smallest number in a list?"
   ]
  },
  {
   "cell_type": "code",
   "execution_count": 7,
   "id": "5a09fa2e",
   "metadata": {},
   "outputs": [
    {
     "name": "stdout",
     "output_type": "stream",
     "text": [
      "Smallest element using min() function: 7\n",
      "Smallest element is: 7\n"
     ]
    }
   ],
   "source": [
    "# Approach 1 (using min() function)\n",
    "list1 = [11, 21, 7, 45, 99]\n",
    "print(\"Smallest element using min() function:\", min(list1))\n",
    "\n",
    "# Approach 2 ()\n",
    "# sorting the list\n",
    "list1.sort()\n",
    "\n",
    "# printing the first element\n",
    "print(\"Smallest element is:\", list1[0])\n"
   ]
  },
  {
   "cell_type": "code",
   "execution_count": null,
   "id": "f162ed38",
   "metadata": {},
   "outputs": [],
   "source": []
  },
  {
   "cell_type": "markdown",
   "id": "99fb0642",
   "metadata": {},
   "source": [
    "# 4. Write a Python program to find largest number in a list?"
   ]
  },
  {
   "cell_type": "code",
   "execution_count": 9,
   "id": "ebe550af",
   "metadata": {},
   "outputs": [
    {
     "name": "stdout",
     "output_type": "stream",
     "text": [
      "Largest element using max() function: 99\n",
      "Largest element is: 99\n"
     ]
    }
   ],
   "source": [
    "# Approach 1 (using max() function)\n",
    "list1 = [11, 21, 7, 45, 99]\n",
    "print(\"Largest element using max() function:\", max(list1))\n",
    "\n",
    "# Approach 2 ()\n",
    "# sorting the list\n",
    "list1.sort(reverse=True)\n",
    "\n",
    "# printing the first element\n",
    "print(\"Largest element is:\", list1[0])"
   ]
  },
  {
   "cell_type": "code",
   "execution_count": null,
   "id": "0bc3a269",
   "metadata": {},
   "outputs": [],
   "source": []
  },
  {
   "cell_type": "markdown",
   "id": "677d35f9",
   "metadata": {},
   "source": [
    "# 5. Write a Python program to find second largest number in a list?"
   ]
  },
  {
   "cell_type": "code",
   "execution_count": 12,
   "id": "b79eeff4",
   "metadata": {},
   "outputs": [
    {
     "name": "stdout",
     "output_type": "stream",
     "text": [
      "Second Largest element of list1 is: 45\n",
      "Second Largest element of list2 is: 40\n"
     ]
    }
   ],
   "source": [
    "list1 = [11, 21, 7, 45, 99]\n",
    "list1.sort(reverse=True)\n",
    "# printing the second element from this reversely sorted list\n",
    "print(\"Second Largest element of list1 is:\", list1[1])\n",
    "\n",
    "list2 = [14, 25,2, 40, 91]\n",
    "list2.sort()\n",
    "# printing the second last element from this sorted list\n",
    "print(\"Second Largest element of list2 is:\", list2[-2])\n"
   ]
  },
  {
   "cell_type": "code",
   "execution_count": null,
   "id": "177bb6cc",
   "metadata": {},
   "outputs": [],
   "source": []
  },
  {
   "cell_type": "markdown",
   "id": "0ce79c66",
   "metadata": {},
   "source": [
    "# 6. Write a Python program to find N largest elements from a list?"
   ]
  },
  {
   "cell_type": "code",
   "execution_count": 20,
   "id": "3fb4a1d9",
   "metadata": {},
   "outputs": [
    {
     "name": "stdout",
     "output_type": "stream",
     "text": [
      "[298, 900, 1000, 3579]\n",
      "2 max elements in  [298, 100, 200, -45, 900] are  [3579, 1000]\n"
     ]
    }
   ],
   "source": [
    "# Approach 1\n",
    "l = [1000,298,3579,100,200,-45,900]\n",
    "n = 4\n",
    "l.sort()\n",
    "print(l[-n:])\n",
    "\n",
    "# Approach 2\n",
    "def N_max_elements(list, N):\n",
    "    result_list = []\n",
    "  \n",
    "    for i in range(0, N): \n",
    "        maximum = 0\n",
    "          \n",
    "        for j in range(len(list)):     \n",
    "            if list[j] > maximum:\n",
    "                maximum = list[j]\n",
    "                  \n",
    "        list.remove(maximum)\n",
    "        result_list.append(maximum)\n",
    "          \n",
    "    return result_list\n",
    "  \n",
    "list1 = [1000,298,3579,100,200,-45,900]\n",
    "N = 2\n",
    "\n",
    "print(N, \"max elements in \",list1,\"are \",N_max_elements(list1, N))"
   ]
  },
  {
   "cell_type": "code",
   "execution_count": null,
   "id": "610d00df",
   "metadata": {},
   "outputs": [],
   "source": []
  },
  {
   "cell_type": "markdown",
   "id": "0033be5e",
   "metadata": {},
   "source": [
    "# 7. Write a Python program to print even numbers in a list?"
   ]
  },
  {
   "cell_type": "code",
   "execution_count": 23,
   "id": "87e65625",
   "metadata": {},
   "outputs": [
    {
     "name": "stdout",
     "output_type": "stream",
     "text": [
      "Even numbers in the list:  [56, 80]\n",
      "Even numbers in the list are:  56 80 "
     ]
    }
   ],
   "source": [
    "list1 = [45,89,56,80,91]\n",
    "\n",
    "# Approach 1 using list comprehension\n",
    "even_nos = [num for num in list1 if num % 2 == 0]\n",
    "print(\"Even numbers in the list: \", even_nos)\n",
    "\n",
    "# Approach 2 using while loop\n",
    "num = 0\n",
    "print('Even numbers in the list are: ',end=' ')\n",
    "while(num < len(list1)):\n",
    "    if list1[num] % 2 == 0:\n",
    "        print(list1[num], end=\" \")\n",
    "    num += 1\n"
   ]
  },
  {
   "cell_type": "code",
   "execution_count": null,
   "id": "653ba682",
   "metadata": {},
   "outputs": [],
   "source": []
  },
  {
   "cell_type": "markdown",
   "id": "fb6c0e19",
   "metadata": {},
   "source": [
    "# 8. Write a Python program to print odd numbers in a List?"
   ]
  },
  {
   "cell_type": "code",
   "execution_count": 25,
   "id": "fdedcf65",
   "metadata": {},
   "outputs": [
    {
     "name": "stdout",
     "output_type": "stream",
     "text": [
      "45 89 91 "
     ]
    }
   ],
   "source": [
    "list1 = [45,89,56,80,91]\n",
    "\n",
    "# iterating each number in list\n",
    "for num in list1:\n",
    "    if num % 2 != 0:\n",
    "        print(num, end=\" \")\n"
   ]
  },
  {
   "cell_type": "code",
   "execution_count": null,
   "id": "a0f703d4",
   "metadata": {},
   "outputs": [],
   "source": []
  },
  {
   "cell_type": "markdown",
   "id": "30acce03",
   "metadata": {},
   "source": [
    "# 9. Write a Python program to Remove empty List from List?"
   ]
  },
  {
   "cell_type": "code",
   "execution_count": 41,
   "id": "1d012cbc",
   "metadata": {},
   "outputs": [
    {
     "name": "stdout",
     "output_type": "stream",
     "text": [
      "The original list is : [12, 2, [], 3, [], [], 9, 10]\n",
      "List after empty list removal : [12, 2, 3, 9, 10]\n",
      "\n",
      "The original list is : [12, 2, [], 3, [], [], 9, 10]\n",
      "List after empty list removal : [12, 2, 3, 9, 10]\n"
     ]
    }
   ],
   "source": [
    "# Approach 1  using list comprehension\n",
    "test_list = [12, 2, [], 3, [], [], 9, 10]\n",
    "\n",
    "print(\"The original list is : \" + str(test_list))\n",
    "\n",
    "# Remove empty List from List using list comprehension\n",
    "final_list = [ele for ele in test_list if ele != []]\n",
    "print(\"List after empty list removal : \" + str(final_list))\n",
    "\n",
    "# Approach 2 using remove() method\n",
    "test_list = [12, 2, [], 3, [], [], 9, 10]\n",
    "print()\n",
    "print(\"The original list is : \" + str(test_list))\n",
    "# Remove empty List from List\n",
    "while [] in test_list :\n",
    "    test_list.remove([])\n",
    "print(\"List after empty list removal : \" + str(test_list))"
   ]
  },
  {
   "cell_type": "code",
   "execution_count": null,
   "id": "c974435a",
   "metadata": {},
   "outputs": [],
   "source": []
  },
  {
   "cell_type": "markdown",
   "id": "76bbd478",
   "metadata": {},
   "source": [
    "# 10. Write a Python program to Cloning or Copying a list?"
   ]
  },
  {
   "cell_type": "code",
   "execution_count": 44,
   "id": "cd0457ea",
   "metadata": {},
   "outputs": [
    {
     "name": "stdout",
     "output_type": "stream",
     "text": [
      "Original List: [45, 89, 56, 80, 91]\n",
      "After Cloning: [45, 89, 56, 80, 91]\n",
      "\n",
      "Original List: [45, 89, 56, 80, 91]\n",
      "After Cloning: [45, 89, 56, 80, 91]\n"
     ]
    }
   ],
   "source": [
    "# Approach 1 using the in-built function extend()\n",
    "def Cloning(list1):\n",
    "    li_copy = []\n",
    "    li_copy.extend(list1)\n",
    "    return li_copy\n",
    "\n",
    "list1 = [45,89,56,80,91]\n",
    "list2 = Cloning(list1)\n",
    "print(\"Original List:\", list1)\n",
    "print(\"After Cloning:\", list2)\n",
    "\n",
    "# Approach 2 using the Slice Operator\n",
    "def clone(li1):\n",
    "    li_copy = li1[:]\n",
    "    return li_copy\n",
    "\n",
    "list1 = [45,89,56,80,91]\n",
    "list2 = clone(list1)\n",
    "print()\n",
    "print(\"Original List:\", list1)\n",
    "print(\"After Cloning:\", list2)\n"
   ]
  },
  {
   "cell_type": "code",
   "execution_count": null,
   "id": "5025e77f",
   "metadata": {},
   "outputs": [],
   "source": []
  }
 ],
 "metadata": {
  "kernelspec": {
   "display_name": "Python 3 (ipykernel)",
   "language": "python",
   "name": "python3"
  },
  "language_info": {
   "codemirror_mode": {
    "name": "ipython",
    "version": 3
   },
   "file_extension": ".py",
   "mimetype": "text/x-python",
   "name": "python",
   "nbconvert_exporter": "python",
   "pygments_lexer": "ipython3",
   "version": "3.9.7"
  }
 },
 "nbformat": 4,
 "nbformat_minor": 5
}
