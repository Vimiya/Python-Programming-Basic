{
 "cells": [
  {
   "cell_type": "markdown",
   "id": "027c4b5f",
   "metadata": {},
   "source": [
    "# Write a Python program to print \"Hello Python\"? "
   ]
  },
  {
   "cell_type": "code",
   "execution_count": 1,
   "id": "edef6a32",
   "metadata": {},
   "outputs": [
    {
     "name": "stdout",
     "output_type": "stream",
     "text": [
      "Hello Python\n"
     ]
    }
   ],
   "source": [
    "print('Hello Python')"
   ]
  },
  {
   "cell_type": "code",
   "execution_count": null,
   "id": "26450bf4",
   "metadata": {},
   "outputs": [],
   "source": []
  },
  {
   "cell_type": "markdown",
   "id": "e1dacef4",
   "metadata": {},
   "source": [
    "# Write a Python program to do arithmetical operations addition and division.? "
   ]
  },
  {
   "cell_type": "code",
   "execution_count": 2,
   "id": "f298aeb9",
   "metadata": {},
   "outputs": [
    {
     "name": "stdout",
     "output_type": "stream",
     "text": [
      "12\n",
      "5.0\n"
     ]
    }
   ],
   "source": [
    "a=10\n",
    "b=2\n",
    "print(a+b)\n",
    "print(a/b)"
   ]
  },
  {
   "cell_type": "code",
   "execution_count": null,
   "id": "ec82d67a",
   "metadata": {},
   "outputs": [],
   "source": []
  },
  {
   "cell_type": "markdown",
   "id": "6a451c98",
   "metadata": {},
   "source": [
    "# Write a Python program to find the area of a triangle? "
   ]
  },
  {
   "cell_type": "code",
   "execution_count": 3,
   "id": "a49681b4",
   "metadata": {},
   "outputs": [
    {
     "name": "stdout",
     "output_type": "stream",
     "text": [
      "Enter value of base of the triangle: 10\n",
      "Enter value of height of the triangle: 5\n",
      "Area of triange is:  25.0\n"
     ]
    }
   ],
   "source": [
    "base=float(input('Enter value of base of the triangle: '))\n",
    "height=float(input('Enter value of height of the triangle: '))\n",
    "print('Area of triange is: ',(base*height)/2)"
   ]
  },
  {
   "cell_type": "code",
   "execution_count": null,
   "id": "666e5608",
   "metadata": {},
   "outputs": [],
   "source": []
  },
  {
   "cell_type": "markdown",
   "id": "cfb59f8a",
   "metadata": {},
   "source": [
    "# Write a Python program to swap two variables? "
   ]
  },
  {
   "cell_type": "code",
   "execution_count": 4,
   "id": "c365cebc",
   "metadata": {},
   "outputs": [
    {
     "name": "stdout",
     "output_type": "stream",
     "text": [
      "Enter value of a: hello\n",
      "Enter value of b: 45\n",
      "Values after swapping\n",
      "Now value of a is: 45\n",
      "Now value of b is: hello\n"
     ]
    }
   ],
   "source": [
    "a=input('Enter value of a: ')\n",
    "b=input('Enter value of b: ')\n",
    "c=a\n",
    "a=b\n",
    "b=c\n",
    "print('Values after swapping')\n",
    "print('Now value of a is:',a)\n",
    "print('Now value of b is:',b)"
   ]
  },
  {
   "cell_type": "code",
   "execution_count": null,
   "id": "d22c1b66",
   "metadata": {},
   "outputs": [],
   "source": []
  },
  {
   "cell_type": "markdown",
   "id": "fbac57b3",
   "metadata": {},
   "source": [
    "# Write a Python program to generate a random number? "
   ]
  },
  {
   "cell_type": "code",
   "execution_count": 9,
   "id": "e75cdafc",
   "metadata": {},
   "outputs": [
    {
     "name": "stdout",
     "output_type": "stream",
     "text": [
      "32\n"
     ]
    }
   ],
   "source": [
    "# Generating a random number between 0 and 99\n",
    "\n",
    "import random\n",
    "\n",
    "print(random.randint(0,99))\n"
   ]
  },
  {
   "cell_type": "code",
   "execution_count": null,
   "id": "2c2f9ade",
   "metadata": {},
   "outputs": [],
   "source": []
  }
 ],
 "metadata": {
  "kernelspec": {
   "display_name": "Python 3 (ipykernel)",
   "language": "python",
   "name": "python3"
  },
  "language_info": {
   "codemirror_mode": {
    "name": "ipython",
    "version": 3
   },
   "file_extension": ".py",
   "mimetype": "text/x-python",
   "name": "python",
   "nbconvert_exporter": "python",
   "pygments_lexer": "ipython3",
   "version": "3.9.7"
  }
 },
 "nbformat": 4,
 "nbformat_minor": 5
}
